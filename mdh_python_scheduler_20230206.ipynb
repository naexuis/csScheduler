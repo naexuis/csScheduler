{
  "nbformat": 4,
  "nbformat_minor": 0,
  "metadata": {
    "colab": {
      "provenance": [],
      "authorship_tag": "ABX9TyMsPomo7tFeHzDlP4wkaxN5",
      "include_colab_link": true
    },
    "kernelspec": {
      "name": "python3",
      "display_name": "Python 3"
    },
    "language_info": {
      "name": "python"
    }
  },
  "cells": [
    {
      "cell_type": "markdown",
      "metadata": {
        "id": "view-in-github",
        "colab_type": "text"
      },
      "source": [
        "<a href=\"https://colab.research.google.com/github/naexuis/csScheduler/blob/main/mdh_python_scheduler.ipynb\" target=\"_parent\"><img src=\"https://colab.research.google.com/assets/colab-badge.svg\" alt=\"Open In Colab\"/></a>"
      ]
    },
    {
      "cell_type": "code",
      "source": [
        "! git clone https://github.com/naexuis/csScheduler.git"
      ],
      "metadata": {
        "colab": {
          "base_uri": "https://localhost:8080/"
        },
        "id": "KkrERzkdK2fD",
        "outputId": "b2900a99-c598-47cf-eb82-2c5a406e6771"
      },
      "execution_count": 1,
      "outputs": [
        {
          "output_type": "stream",
          "name": "stdout",
          "text": [
            "Cloning into 'csScheduler'...\n",
            "remote: Enumerating objects: 28, done.\u001b[K\n",
            "remote: Counting objects: 100% (28/28), done.\u001b[K\n",
            "remote: Compressing objects: 100% (21/21), done.\u001b[K\n",
            "remote: Total 28 (delta 8), reused 20 (delta 5), pack-reused 0\u001b[K\n",
            "Unpacking objects: 100% (28/28), 9.36 KiB | 1.04 MiB/s, done.\n"
          ]
        }
      ]
    },
    {
      "cell_type": "code",
      "source": [
        "dir_path = \"/content/csScheduler/\""
      ],
      "metadata": {
        "id": "DV7ErXWOK87C"
      },
      "execution_count": 2,
      "outputs": []
    },
    {
      "cell_type": "code",
      "execution_count": 3,
      "metadata": {
        "id": "Hop9dUrv9WGT"
      },
      "outputs": [],
      "source": [
        "import pandas as pd\n",
        "import numpy as np\n",
        "import os\n",
        "import copy\n",
        "import json\n",
        "import matplotlib.pyplot as plt"
      ]
    },
    {
      "cell_type": "code",
      "source": [
        "try:\n",
        "    import pyomo\n",
        "except:\n",
        "    %pip install -q Pyomo"
      ],
      "metadata": {
        "colab": {
          "base_uri": "https://localhost:8080/"
        },
        "id": "Jd0slNf_9xh1",
        "outputId": "65180547-627f-4fc9-e3d8-aa6dcfb4dbf6"
      },
      "execution_count": 4,
      "outputs": [
        {
          "output_type": "stream",
          "name": "stdout",
          "text": [
            "\u001b[2K     \u001b[90m━━━━━━━━━━━━━━━━━━━━━━━━━━━━━━━━━━━━━━━━\u001b[0m \u001b[32m11.1/11.1 MB\u001b[0m \u001b[31m54.1 MB/s\u001b[0m eta \u001b[36m0:00:00\u001b[0m\n",
            "\u001b[2K     \u001b[90m━━━━━━━━━━━━━━━━━━━━━━━━━━━━━━━━━━━━━━━━\u001b[0m \u001b[32m49.6/49.6 KB\u001b[0m \u001b[31m5.3 MB/s\u001b[0m eta \u001b[36m0:00:00\u001b[0m\n",
            "\u001b[?25h"
          ]
        }
      ]
    },
    {
      "cell_type": "code",
      "source": [
        "# Import Pyomo Library\n",
        "import pyomo\n",
        "from pyomo.environ import *\n",
        "\n",
        "print(pyomo.__version__)"
      ],
      "metadata": {
        "colab": {
          "base_uri": "https://localhost:8080/"
        },
        "id": "yE9kKqv69yDa",
        "outputId": "a057e9b0-f937-4255-aeb1-9fed49b7a5ab"
      },
      "execution_count": 5,
      "outputs": [
        {
          "output_type": "stream",
          "name": "stdout",
          "text": [
            "6.4.4\n"
          ]
        }
      ]
    },
    {
      "cell_type": "code",
      "source": [
        "# Install COIN-OR IPOPT Solver\n",
        "!wget -N -q \"https://ampl.com/dl/open/ipopt/ipopt-linux64.zip\"\n",
        "!unzip -o -q ipopt-linux64"
      ],
      "metadata": {
        "id": "Iu5xHYcP91vu"
      },
      "execution_count": 6,
      "outputs": []
    },
    {
      "cell_type": "code",
      "source": [
        "# Install COIN-OR Bonmin Solver\n",
        "!wget -N -q \"https://ampl.com/dl/open/bonmin/bonmin-linux64.zip\"\n",
        "!unzip -o -q bonmin-linux64"
      ],
      "metadata": {
        "id": "MidlIt3s8rU4"
      },
      "execution_count": 121,
      "outputs": []
    },
    {
      "cell_type": "markdown",
      "source": [
        "## Problem Description"
      ],
      "metadata": {
        "id": "qUuHsvMo-zZq"
      }
    },
    {
      "cell_type": "markdown",
      "source": [
        "A new store has been opened which will be open 16 hours a day, 5 days a week. \n",
        "\n",
        "Each day, there are **two eight-hour** shifts. \n",
        "* Morning shift is from 06:00 to 14:00\n",
        "* Evening shift is from 14:00 to 22:00\n",
        "\n",
        "In theory, during the day there are two workers, but this can change base on demand. \n",
        "\n",
        "Each worker will not exceed a maximum of 40 hours per week.\n",
        "\n",
        "In principle, there are available ten employees."
      ],
      "metadata": {
        "id": "OOaAyspC-2P6"
      }
    },
    {
      "cell_type": "code",
      "source": [
        "# Define days (1 week)\n",
        "days = ['Monday', 'Tuesday', 'Wednesday', 'Thursday', 'Friday']\n",
        "\n",
        "# Enter shifts of each day\n",
        "shifts = ['morning', 'evening']  # 2 shifts of 8 hours"
      ],
      "metadata": {
        "id": "XFYAiqXhITdj"
      },
      "execution_count": 7,
      "outputs": []
    },
    {
      "cell_type": "code",
      "source": [
        "# Opening JSON Schedule file to create nested dictionary\n",
        "with open(dir_path+'Schedule.json') as json_file:\n",
        "    input_schedule = json.load(json_file)"
      ],
      "metadata": {
        "id": "L6ykx7TeLNAl"
      },
      "execution_count": 8,
      "outputs": []
    },
    {
      "cell_type": "code",
      "source": [
        "with open(dir_path+'People.json') as json_file:\n",
        "    worker_schedule = json.load(json_file)"
      ],
      "metadata": {
        "id": "XM9yN9l0vaj-"
      },
      "execution_count": 9,
      "outputs": []
    },
    {
      "cell_type": "code",
      "source": [
        "input_schedule"
      ],
      "metadata": {
        "colab": {
          "base_uri": "https://localhost:8080/"
        },
        "id": "2bcrWaM0LceZ",
        "outputId": "61aa306a-b479-4fcd-f572-391e584c179b"
      },
      "execution_count": 10,
      "outputs": [
        {
          "output_type": "execute_result",
          "data": {
            "text/plain": [
              "{'Monday': {'timesWeNeedWorkers': [{'shifts': 'morning',\n",
              "    'numberOfEmployeesNeeded': '2',\n",
              "    'managerNeeded': 'false'},\n",
              "   {'shifts': 'evening',\n",
              "    'numberOfEmployeesNeeded': '2',\n",
              "    'managerNeeded': 'false'}]},\n",
              " 'Tuesday': {'timesWeNeedWorkers': [{'shifts': 'morning',\n",
              "    'numberOfEmployeesNeeded': '3',\n",
              "    'managerNeeded': 'false'},\n",
              "   {'shifts': 'evening',\n",
              "    'numberOfEmployeesNeeded': '0',\n",
              "    'managerNeeded': 'false'}]},\n",
              " 'Wednesday': {'timesWeNeedWorkers': [{'shifts': 'morning',\n",
              "    'numberOfEmployeesNeeded': '2',\n",
              "    'managerNeeded': 'false'},\n",
              "   {'shifts': 'evening',\n",
              "    'numberOfEmployeesNeeded': '1',\n",
              "    'managerNeeded': 'false'}]},\n",
              " 'Thursday': {'timesWeNeedWorkers': [{'shifts': 'morning',\n",
              "    'numberOfEmployeesNeeded': '2',\n",
              "    'managerNeeded': 'false'},\n",
              "   {'shifts': 'evening',\n",
              "    'numberOfEmployeesNeeded': '1',\n",
              "    'managerNeeded': 'false'}]},\n",
              " 'Friday': {'timesWeNeedWorkers': [{'shifts': 'morning',\n",
              "    'numberOfEmployeesNeeded': '0',\n",
              "    'managerNeeded': 'false'},\n",
              "   {'shifts': 'evening',\n",
              "    'numberOfEmployeesNeeded': '2',\n",
              "    'managerNeeded': 'false'}]}}"
            ]
          },
          "metadata": {},
          "execution_count": 10
        }
      ]
    },
    {
      "cell_type": "code",
      "source": [
        "len(worker_schedule['People'])"
      ],
      "metadata": {
        "colab": {
          "base_uri": "https://localhost:8080/"
        },
        "id": "J3dTyeGrxTaR",
        "outputId": "1dd41040-dae5-4f7b-aaa0-9b10e49771fa"
      },
      "execution_count": 11,
      "outputs": [
        {
          "output_type": "execute_result",
          "data": {
            "text/plain": [
              "10"
            ]
          },
          "metadata": {},
          "execution_count": 11
        }
      ]
    },
    {
      "cell_type": "code",
      "source": [
        "days_shifts = {day: shifts for day in days}\n",
        "days_shifts"
      ],
      "metadata": {
        "colab": {
          "base_uri": "https://localhost:8080/"
        },
        "id": "gdlVL_01JAUi",
        "outputId": "0a74af90-1073-4e72-f2a3-8d9c538ecc6b"
      },
      "execution_count": 12,
      "outputs": [
        {
          "output_type": "execute_result",
          "data": {
            "text/plain": [
              "{'Monday': ['morning', 'evening'],\n",
              " 'Tuesday': ['morning', 'evening'],\n",
              " 'Wednesday': ['morning', 'evening'],\n",
              " 'Thursday': ['morning', 'evening'],\n",
              " 'Friday': ['morning', 'evening']}"
            ]
          },
          "metadata": {},
          "execution_count": 12
        }
      ]
    },
    {
      "cell_type": "code",
      "source": [
        "work_shifts = {}\n",
        "\n",
        "for k in range(len(days)):\n",
        "    tmpLST = input_schedule[days[k]]['timesWeNeedWorkers']\n",
        "\n",
        "    for i in range(len(tmpLST)):\n",
        "        work_shifts[(days[k], tmpLST[i]['shifts'])] = int(tmpLST[i]['numberOfEmployeesNeeded'])\n",
        "\n",
        "work_shifts"
      ],
      "metadata": {
        "colab": {
          "base_uri": "https://localhost:8080/"
        },
        "id": "Nf7RJ7llJBef",
        "outputId": "a630814f-3cfb-4a76-857f-e7d395e846da"
      },
      "execution_count": 84,
      "outputs": [
        {
          "output_type": "execute_result",
          "data": {
            "text/plain": [
              "{('Monday', 'morning'): 2,\n",
              " ('Monday', 'evening'): 2,\n",
              " ('Tuesday', 'morning'): 3,\n",
              " ('Tuesday', 'evening'): 0,\n",
              " ('Wednesday', 'morning'): 2,\n",
              " ('Wednesday', 'evening'): 1,\n",
              " ('Thursday', 'morning'): 2,\n",
              " ('Thursday', 'evening'): 1,\n",
              " ('Friday', 'morning'): 0,\n",
              " ('Friday', 'evening'): 2}"
            ]
          },
          "metadata": {},
          "execution_count": 84
        }
      ]
    },
    {
      "cell_type": "code",
      "source": [
        "# Enter workers ids (name, number, ...)\n",
        "workers = ['W' + str(i) for i in range(1, 11)]  # 10 workers available, more than needed\n",
        "workers"
      ],
      "metadata": {
        "colab": {
          "base_uri": "https://localhost:8080/"
        },
        "id": "s_uNrJsgWT7i",
        "outputId": "5ab04980-de5d-48dc-8679-3c0430845cf6"
      },
      "execution_count": 14,
      "outputs": [
        {
          "output_type": "execute_result",
          "data": {
            "text/plain": [
              "['W1', 'W2', 'W3', 'W4', 'W5', 'W6', 'W7', 'W8', 'W9', 'W10']"
            ]
          },
          "metadata": {},
          "execution_count": 14
        }
      ]
    },
    {
      "cell_type": "code",
      "source": [
        "# We need to create a dictionary of the workers availability where the \n",
        "# dictionary key will be a tuple and the value will be a binary variable\n",
        "# (\"worker\", \"Day\", \"Shift\"): \"Available\"\n",
        "\n",
        "c = {}\n",
        "for k in range(len(worker_schedule['People'])):\n",
        "    tmpLST = worker_schedule['People'][k]\n",
        "\n",
        "    for i in range(len(days)):\n",
        "        tmpLST2 = tmpLST[days[i]]['freeTimes']\n",
        "\n",
        "        for j in range(len(tmpLST2)):\n",
        "            c[(tmpLST['name'], days[i], tmpLST2[j]['shifts'])] = int(tmpLST2[j]['available'])"
      ],
      "metadata": {
        "id": "WbQjrQZ2Xqxm"
      },
      "execution_count": 15,
      "outputs": []
    },
    {
      "cell_type": "code",
      "source": [
        "c"
      ],
      "metadata": {
        "colab": {
          "base_uri": "https://localhost:8080/"
        },
        "id": "Ue31322j_tFm",
        "outputId": "365513f7-b130-46cb-e345-789dfba42355"
      },
      "execution_count": 16,
      "outputs": [
        {
          "output_type": "execute_result",
          "data": {
            "text/plain": [
              "{('W1', 'Monday', 'morning'): 0,\n",
              " ('W1', 'Monday', 'evening'): 0,\n",
              " ('W1', 'Tuesday', 'morning'): 1,\n",
              " ('W1', 'Tuesday', 'evening'): 1,\n",
              " ('W1', 'Wednesday', 'morning'): 0,\n",
              " ('W1', 'Wednesday', 'evening'): 0,\n",
              " ('W1', 'Thursday', 'morning'): 0,\n",
              " ('W1', 'Thursday', 'evening'): 0,\n",
              " ('W1', 'Friday', 'morning'): 1,\n",
              " ('W1', 'Friday', 'evening'): 1,\n",
              " ('W2', 'Monday', 'morning'): 1,\n",
              " ('W2', 'Monday', 'evening'): 1,\n",
              " ('W2', 'Tuesday', 'morning'): 1,\n",
              " ('W2', 'Tuesday', 'evening'): 1,\n",
              " ('W2', 'Wednesday', 'morning'): 0,\n",
              " ('W2', 'Wednesday', 'evening'): 0,\n",
              " ('W2', 'Thursday', 'morning'): 1,\n",
              " ('W2', 'Thursday', 'evening'): 1,\n",
              " ('W2', 'Friday', 'morning'): 0,\n",
              " ('W2', 'Friday', 'evening'): 0,\n",
              " ('W3', 'Monday', 'morning'): 1,\n",
              " ('W3', 'Monday', 'evening'): 1,\n",
              " ('W3', 'Tuesday', 'morning'): 0,\n",
              " ('W3', 'Tuesday', 'evening'): 0,\n",
              " ('W3', 'Wednesday', 'morning'): 1,\n",
              " ('W3', 'Wednesday', 'evening'): 1,\n",
              " ('W3', 'Thursday', 'morning'): 1,\n",
              " ('W3', 'Thursday', 'evening'): 1,\n",
              " ('W3', 'Friday', 'morning'): 1,\n",
              " ('W3', 'Friday', 'evening'): 1,\n",
              " ('W4', 'Monday', 'morning'): 1,\n",
              " ('W4', 'Monday', 'evening'): 1,\n",
              " ('W4', 'Tuesday', 'morning'): 1,\n",
              " ('W4', 'Tuesday', 'evening'): 1,\n",
              " ('W4', 'Wednesday', 'morning'): 0,\n",
              " ('W4', 'Wednesday', 'evening'): 0,\n",
              " ('W4', 'Thursday', 'morning'): 1,\n",
              " ('W4', 'Thursday', 'evening'): 1,\n",
              " ('W4', 'Friday', 'morning'): 1,\n",
              " ('W4', 'Friday', 'evening'): 1,\n",
              " ('W5', 'Monday', 'morning'): 1,\n",
              " ('W5', 'Monday', 'evening'): 1,\n",
              " ('W5', 'Tuesday', 'morning'): 1,\n",
              " ('W5', 'Tuesday', 'evening'): 1,\n",
              " ('W5', 'Wednesday', 'morning'): 1,\n",
              " ('W5', 'Wednesday', 'evening'): 1,\n",
              " ('W5', 'Thursday', 'morning'): 0,\n",
              " ('W5', 'Thursday', 'evening'): 0,\n",
              " ('W5', 'Friday', 'morning'): 0,\n",
              " ('W5', 'Friday', 'evening'): 0,\n",
              " ('W6', 'Monday', 'morning'): 1,\n",
              " ('W6', 'Monday', 'evening'): 1,\n",
              " ('W6', 'Tuesday', 'morning'): 1,\n",
              " ('W6', 'Tuesday', 'evening'): 1,\n",
              " ('W6', 'Wednesday', 'morning'): 1,\n",
              " ('W6', 'Wednesday', 'evening'): 1,\n",
              " ('W6', 'Thursday', 'morning'): 1,\n",
              " ('W6', 'Thursday', 'evening'): 1,\n",
              " ('W6', 'Friday', 'morning'): 1,\n",
              " ('W6', 'Friday', 'evening'): 1,\n",
              " ('W7', 'Monday', 'morning'): 1,\n",
              " ('W7', 'Monday', 'evening'): 0,\n",
              " ('W7', 'Tuesday', 'morning'): 1,\n",
              " ('W7', 'Tuesday', 'evening'): 0,\n",
              " ('W7', 'Wednesday', 'morning'): 1,\n",
              " ('W7', 'Wednesday', 'evening'): 0,\n",
              " ('W7', 'Thursday', 'morning'): 0,\n",
              " ('W7', 'Thursday', 'evening'): 1,\n",
              " ('W7', 'Friday', 'morning'): 0,\n",
              " ('W7', 'Friday', 'evening'): 1,\n",
              " ('W8', 'Monday', 'morning'): 0,\n",
              " ('W8', 'Monday', 'evening'): 1,\n",
              " ('W8', 'Tuesday', 'morning'): 0,\n",
              " ('W8', 'Tuesday', 'evening'): 1,\n",
              " ('W8', 'Wednesday', 'morning'): 1,\n",
              " ('W8', 'Wednesday', 'evening'): 0,\n",
              " ('W8', 'Thursday', 'morning'): 0,\n",
              " ('W8', 'Thursday', 'evening'): 1,\n",
              " ('W8', 'Friday', 'morning'): 0,\n",
              " ('W8', 'Friday', 'evening'): 1,\n",
              " ('W9', 'Monday', 'morning'): 1,\n",
              " ('W9', 'Monday', 'evening'): 1,\n",
              " ('W9', 'Tuesday', 'morning'): 0,\n",
              " ('W9', 'Tuesday', 'evening'): 0,\n",
              " ('W9', 'Wednesday', 'morning'): 1,\n",
              " ('W9', 'Wednesday', 'evening'): 0,\n",
              " ('W9', 'Thursday', 'morning'): 1,\n",
              " ('W9', 'Thursday', 'evening'): 0,\n",
              " ('W9', 'Friday', 'morning'): 0,\n",
              " ('W9', 'Friday', 'evening'): 1,\n",
              " ('W10', 'Monday', 'morning'): 0,\n",
              " ('W10', 'Monday', 'evening'): 1,\n",
              " ('W10', 'Tuesday', 'morning'): 1,\n",
              " ('W10', 'Tuesday', 'evening'): 1,\n",
              " ('W10', 'Wednesday', 'morning'): 0,\n",
              " ('W10', 'Wednesday', 'evening'): 0,\n",
              " ('W10', 'Thursday', 'morning'): 1,\n",
              " ('W10', 'Thursday', 'evening'): 1,\n",
              " ('W10', 'Friday', 'morning'): 0,\n",
              " ('W10', 'Friday', 'evening'): 0}"
            ]
          },
          "metadata": {},
          "execution_count": 16
        }
      ]
    },
    {
      "cell_type": "code",
      "source": [
        "# We need to create a dictionary of the workers total desired hours\n",
        "\n",
        "maxhr = {}\n",
        "for k in range(len(worker_schedule['People'])):\n",
        "    tmpLST = worker_schedule['People'][k]\n",
        "    maxhr[tmpLST['name']] = int(tmpLST['hoursDesired'])"
      ],
      "metadata": {
        "id": "-Be0Ul5lJeNl"
      },
      "execution_count": 17,
      "outputs": []
    },
    {
      "cell_type": "code",
      "source": [
        "maxhr"
      ],
      "metadata": {
        "colab": {
          "base_uri": "https://localhost:8080/"
        },
        "id": "tdGP2wxPgIuK",
        "outputId": "6806b59a-b11b-4d1d-c64e-cd827c1d68ad"
      },
      "execution_count": 18,
      "outputs": [
        {
          "output_type": "execute_result",
          "data": {
            "text/plain": [
              "{'W1': 40,\n",
              " 'W2': 40,\n",
              " 'W3': 40,\n",
              " 'W4': 40,\n",
              " 'W5': 40,\n",
              " 'W6': 40,\n",
              " 'W7': 40,\n",
              " 'W8': 40,\n",
              " 'W9': 40,\n",
              " 'W10': 40}"
            ]
          },
          "metadata": {},
          "execution_count": 18
        }
      ]
    },
    {
      "cell_type": "markdown",
      "source": [
        "Define $W$ as the set of workers, $S$ as the sets of shifts, and $H$ as the set of max number of hours.\n",
        "\n",
        "Let $c_{ws}$ be worker $j$ availability for shift $s$\n",
        "\n",
        "Let $x_{ws}$ be the proportion of shift $s$ that is completed by worker $j$.\n",
        "\n",
        "$${minimize} \\sum_{w \\in W} \\sum_{s \\in S} c_{ws}x_{ws}$$\n",
        "\n",
        "subject to the total numbers of hours $h$ for worker $j$\n",
        "\n",
        "$$\\sum_{s \\in S}c_{ws}x_{ws} \\le h_{j}$$\n",
        "\n",
        "the sum of each shift that a worker completes must sum to unity.\n",
        "\n",
        "$$\\sum_{w \\in W}x_{ws} = 1$$\n",
        "\n"
      ],
      "metadata": {
        "id": "h51ppUPw_w8z"
      }
    },
    {
      "cell_type": "code",
      "source": [
        "M = ConcreteModel()"
      ],
      "metadata": {
        "id": "B5eF-yRoH2En"
      },
      "execution_count": 122,
      "outputs": []
    },
    {
      "cell_type": "code",
      "source": [
        "M.WORKERS = Set(initialize=workers)\n",
        "M.DAYS = Set(initialize=days)\n",
        "M.SHIFTS = Set(initialize=shifts)"
      ],
      "metadata": {
        "id": "pCZDyFNy-lqN"
      },
      "execution_count": 123,
      "outputs": []
    },
    {
      "cell_type": "code",
      "source": [
        "# Parameters\n",
        "M.c = Param(M.WORKERS, M.DAYS, M.SHIFTS, initialize=c, default=0)\n",
        "M.max_hours = Param(M.WORKERS, initialize=maxhr)"
      ],
      "metadata": {
        "id": "MvsRLaHYHq8z"
      },
      "execution_count": 124,
      "outputs": []
    },
    {
      "cell_type": "code",
      "source": [
        "M.b = Var(M.WORKERS, M.DAYS, M.SHIFTS, within=Binary, initialize=0)"
      ],
      "metadata": {
        "id": "PgL5mw9nH6Q9"
      },
      "execution_count": 125,
      "outputs": []
    },
    {
      "cell_type": "code",
      "source": [
        "M.obj = Objective(expr=quicksum(M.c[i, j, k] * M.b[i, j, k] for i in M.WORKERS for j in M.DAYS for k in M.SHIFTS), \n",
        "                  sense=minimize)"
      ],
      "metadata": {
        "id": "9IcDwqWlqjZp"
      },
      "execution_count": 126,
      "outputs": []
    },
    {
      "cell_type": "code",
      "source": [
        "M.constraints = ConstraintList()  # Create a set of constraints\n",
        "\n",
        "for i in M.WORKERS:\n",
        "    M.constraints.add(\n",
        "        M.max_hours[i] >= quicksum(8 * M.c[i, j, k] * M.b[i, j, k] for j in M.DAYS for k in M.SHIFTS)\n",
        "    )\n",
        "\n",
        "for j in M.DAYS:\n",
        "    for k in M.SHIFTS:\n",
        "        M.constraints.add(\n",
        "            work_shifts[j, k] == quicksum(M.c[i, j, k] * M.b[i, j, k] for i in M.WORKERS)\n",
        "        )"
      ],
      "metadata": {
        "id": "5aOVsq40uwJn"
      },
      "execution_count": 127,
      "outputs": []
    },
    {
      "cell_type": "code",
      "source": [
        "# M.pprint()"
      ],
      "metadata": {
        "id": "7f8-awYbIcDv"
      },
      "execution_count": 128,
      "outputs": []
    },
    {
      "cell_type": "code",
      "source": [
        "# solver1 = SolverFactory('ipopt', executable='/content/ipopt')\n",
        "solver1 = SolverFactory('bonmin', executable='/content/bonmin')\n",
        "solver1.solve(M)"
      ],
      "metadata": {
        "colab": {
          "base_uri": "https://localhost:8080/"
        },
        "id": "xAL67l3-IdUg",
        "outputId": "91068875-63da-4af9-c422-490f17de13fe"
      },
      "execution_count": 148,
      "outputs": [
        {
          "output_type": "execute_result",
          "data": {
            "text/plain": [
              "{'Problem': [{'Lower bound': -inf, 'Upper bound': inf, 'Number of objectives': 1, 'Number of constraints': 0, 'Number of variables': 62, 'Sense': 'unknown'}], 'Solver': [{'Status': 'ok', 'Message': 'bonmin\\\\x3a Optimal', 'Termination condition': 'optimal', 'Id': 3, 'Error rc': 0, 'Time': 0.045145511627197266}], 'Solution': [OrderedDict([('number of solutions', 0), ('number of solutions displayed', 0)])]}"
            ]
          },
          "metadata": {},
          "execution_count": 148
        }
      ]
    },
    {
      "cell_type": "code",
      "source": [
        "dow = {}\n",
        "for i in range(len(days)):\n",
        "    dow[days[i]] = i"
      ],
      "metadata": {
        "id": "JFe7amvRPzXN"
      },
      "execution_count": 154,
      "outputs": []
    },
    {
      "cell_type": "code",
      "source": [
        "df = pd.DataFrame(index=pd.MultiIndex.from_tuples(M.b, names=['w', 'd', 's']))\n",
        "df['x'] = [value(M.b[key]) for key in df.index]\n",
        "df['c'] = [M.c[key] for key in df.index]\n",
        "df['res'] = [df['x'][i] * df['c'][i] for i in range(len(df))]\n",
        "df = df.reset_index(drop=False)\n",
        "df['dow'] = [dow[df['d'][i]] for i in range(len(df))]\n",
        "df_res = df[df['res']==1].sort_values(by=['dow']).reset_index(drop=True)\n",
        "df_res"
      ],
      "metadata": {
        "colab": {
          "base_uri": "https://localhost:8080/",
          "height": 520
        },
        "id": "p8VhN1Ar6T_9",
        "outputId": "0aec7f8a-1a3f-494b-d250-93f68360fefb"
      },
      "execution_count": 157,
      "outputs": [
        {
          "output_type": "execute_result",
          "data": {
            "text/plain": [
              "      w          d        s    x  c  res  dow\n",
              "0    W2     Monday  morning  1.0  1  1.0    0\n",
              "1    W2     Monday  evening  1.0  1  1.0    0\n",
              "2    W3     Monday  morning  1.0  1  1.0    0\n",
              "3   W10     Monday  evening  1.0  1  1.0    0\n",
              "4    W1    Tuesday  morning  1.0  1  1.0    1\n",
              "5    W2    Tuesday  morning  1.0  1  1.0    1\n",
              "6   W10    Tuesday  morning  1.0  1  1.0    1\n",
              "7    W3  Wednesday  morning  1.0  1  1.0    2\n",
              "8    W3  Wednesday  evening  1.0  1  1.0    2\n",
              "9    W5  Wednesday  morning  1.0  1  1.0    2\n",
              "10   W2   Thursday  morning  1.0  1  1.0    3\n",
              "11  W10   Thursday  morning  1.0  1  1.0    3\n",
              "12  W10   Thursday  evening  1.0  1  1.0    3\n",
              "13   W1     Friday  evening  1.0  1  1.0    4\n",
              "14   W3     Friday  evening  1.0  1  1.0    4"
            ],
            "text/html": [
              "\n",
              "  <div id=\"df-f7af394c-d9b7-4f58-963f-65ffac68b7f6\">\n",
              "    <div class=\"colab-df-container\">\n",
              "      <div>\n",
              "<style scoped>\n",
              "    .dataframe tbody tr th:only-of-type {\n",
              "        vertical-align: middle;\n",
              "    }\n",
              "\n",
              "    .dataframe tbody tr th {\n",
              "        vertical-align: top;\n",
              "    }\n",
              "\n",
              "    .dataframe thead th {\n",
              "        text-align: right;\n",
              "    }\n",
              "</style>\n",
              "<table border=\"1\" class=\"dataframe\">\n",
              "  <thead>\n",
              "    <tr style=\"text-align: right;\">\n",
              "      <th></th>\n",
              "      <th>w</th>\n",
              "      <th>d</th>\n",
              "      <th>s</th>\n",
              "      <th>x</th>\n",
              "      <th>c</th>\n",
              "      <th>res</th>\n",
              "      <th>dow</th>\n",
              "    </tr>\n",
              "  </thead>\n",
              "  <tbody>\n",
              "    <tr>\n",
              "      <th>0</th>\n",
              "      <td>W2</td>\n",
              "      <td>Monday</td>\n",
              "      <td>morning</td>\n",
              "      <td>1.0</td>\n",
              "      <td>1</td>\n",
              "      <td>1.0</td>\n",
              "      <td>0</td>\n",
              "    </tr>\n",
              "    <tr>\n",
              "      <th>1</th>\n",
              "      <td>W2</td>\n",
              "      <td>Monday</td>\n",
              "      <td>evening</td>\n",
              "      <td>1.0</td>\n",
              "      <td>1</td>\n",
              "      <td>1.0</td>\n",
              "      <td>0</td>\n",
              "    </tr>\n",
              "    <tr>\n",
              "      <th>2</th>\n",
              "      <td>W3</td>\n",
              "      <td>Monday</td>\n",
              "      <td>morning</td>\n",
              "      <td>1.0</td>\n",
              "      <td>1</td>\n",
              "      <td>1.0</td>\n",
              "      <td>0</td>\n",
              "    </tr>\n",
              "    <tr>\n",
              "      <th>3</th>\n",
              "      <td>W10</td>\n",
              "      <td>Monday</td>\n",
              "      <td>evening</td>\n",
              "      <td>1.0</td>\n",
              "      <td>1</td>\n",
              "      <td>1.0</td>\n",
              "      <td>0</td>\n",
              "    </tr>\n",
              "    <tr>\n",
              "      <th>4</th>\n",
              "      <td>W1</td>\n",
              "      <td>Tuesday</td>\n",
              "      <td>morning</td>\n",
              "      <td>1.0</td>\n",
              "      <td>1</td>\n",
              "      <td>1.0</td>\n",
              "      <td>1</td>\n",
              "    </tr>\n",
              "    <tr>\n",
              "      <th>5</th>\n",
              "      <td>W2</td>\n",
              "      <td>Tuesday</td>\n",
              "      <td>morning</td>\n",
              "      <td>1.0</td>\n",
              "      <td>1</td>\n",
              "      <td>1.0</td>\n",
              "      <td>1</td>\n",
              "    </tr>\n",
              "    <tr>\n",
              "      <th>6</th>\n",
              "      <td>W10</td>\n",
              "      <td>Tuesday</td>\n",
              "      <td>morning</td>\n",
              "      <td>1.0</td>\n",
              "      <td>1</td>\n",
              "      <td>1.0</td>\n",
              "      <td>1</td>\n",
              "    </tr>\n",
              "    <tr>\n",
              "      <th>7</th>\n",
              "      <td>W3</td>\n",
              "      <td>Wednesday</td>\n",
              "      <td>morning</td>\n",
              "      <td>1.0</td>\n",
              "      <td>1</td>\n",
              "      <td>1.0</td>\n",
              "      <td>2</td>\n",
              "    </tr>\n",
              "    <tr>\n",
              "      <th>8</th>\n",
              "      <td>W3</td>\n",
              "      <td>Wednesday</td>\n",
              "      <td>evening</td>\n",
              "      <td>1.0</td>\n",
              "      <td>1</td>\n",
              "      <td>1.0</td>\n",
              "      <td>2</td>\n",
              "    </tr>\n",
              "    <tr>\n",
              "      <th>9</th>\n",
              "      <td>W5</td>\n",
              "      <td>Wednesday</td>\n",
              "      <td>morning</td>\n",
              "      <td>1.0</td>\n",
              "      <td>1</td>\n",
              "      <td>1.0</td>\n",
              "      <td>2</td>\n",
              "    </tr>\n",
              "    <tr>\n",
              "      <th>10</th>\n",
              "      <td>W2</td>\n",
              "      <td>Thursday</td>\n",
              "      <td>morning</td>\n",
              "      <td>1.0</td>\n",
              "      <td>1</td>\n",
              "      <td>1.0</td>\n",
              "      <td>3</td>\n",
              "    </tr>\n",
              "    <tr>\n",
              "      <th>11</th>\n",
              "      <td>W10</td>\n",
              "      <td>Thursday</td>\n",
              "      <td>morning</td>\n",
              "      <td>1.0</td>\n",
              "      <td>1</td>\n",
              "      <td>1.0</td>\n",
              "      <td>3</td>\n",
              "    </tr>\n",
              "    <tr>\n",
              "      <th>12</th>\n",
              "      <td>W10</td>\n",
              "      <td>Thursday</td>\n",
              "      <td>evening</td>\n",
              "      <td>1.0</td>\n",
              "      <td>1</td>\n",
              "      <td>1.0</td>\n",
              "      <td>3</td>\n",
              "    </tr>\n",
              "    <tr>\n",
              "      <th>13</th>\n",
              "      <td>W1</td>\n",
              "      <td>Friday</td>\n",
              "      <td>evening</td>\n",
              "      <td>1.0</td>\n",
              "      <td>1</td>\n",
              "      <td>1.0</td>\n",
              "      <td>4</td>\n",
              "    </tr>\n",
              "    <tr>\n",
              "      <th>14</th>\n",
              "      <td>W3</td>\n",
              "      <td>Friday</td>\n",
              "      <td>evening</td>\n",
              "      <td>1.0</td>\n",
              "      <td>1</td>\n",
              "      <td>1.0</td>\n",
              "      <td>4</td>\n",
              "    </tr>\n",
              "  </tbody>\n",
              "</table>\n",
              "</div>\n",
              "      <button class=\"colab-df-convert\" onclick=\"convertToInteractive('df-f7af394c-d9b7-4f58-963f-65ffac68b7f6')\"\n",
              "              title=\"Convert this dataframe to an interactive table.\"\n",
              "              style=\"display:none;\">\n",
              "        \n",
              "  <svg xmlns=\"http://www.w3.org/2000/svg\" height=\"24px\"viewBox=\"0 0 24 24\"\n",
              "       width=\"24px\">\n",
              "    <path d=\"M0 0h24v24H0V0z\" fill=\"none\"/>\n",
              "    <path d=\"M18.56 5.44l.94 2.06.94-2.06 2.06-.94-2.06-.94-.94-2.06-.94 2.06-2.06.94zm-11 1L8.5 8.5l.94-2.06 2.06-.94-2.06-.94L8.5 2.5l-.94 2.06-2.06.94zm10 10l.94 2.06.94-2.06 2.06-.94-2.06-.94-.94-2.06-.94 2.06-2.06.94z\"/><path d=\"M17.41 7.96l-1.37-1.37c-.4-.4-.92-.59-1.43-.59-.52 0-1.04.2-1.43.59L10.3 9.45l-7.72 7.72c-.78.78-.78 2.05 0 2.83L4 21.41c.39.39.9.59 1.41.59.51 0 1.02-.2 1.41-.59l7.78-7.78 2.81-2.81c.8-.78.8-2.07 0-2.86zM5.41 20L4 18.59l7.72-7.72 1.47 1.35L5.41 20z\"/>\n",
              "  </svg>\n",
              "      </button>\n",
              "      \n",
              "  <style>\n",
              "    .colab-df-container {\n",
              "      display:flex;\n",
              "      flex-wrap:wrap;\n",
              "      gap: 12px;\n",
              "    }\n",
              "\n",
              "    .colab-df-convert {\n",
              "      background-color: #E8F0FE;\n",
              "      border: none;\n",
              "      border-radius: 50%;\n",
              "      cursor: pointer;\n",
              "      display: none;\n",
              "      fill: #1967D2;\n",
              "      height: 32px;\n",
              "      padding: 0 0 0 0;\n",
              "      width: 32px;\n",
              "    }\n",
              "\n",
              "    .colab-df-convert:hover {\n",
              "      background-color: #E2EBFA;\n",
              "      box-shadow: 0px 1px 2px rgba(60, 64, 67, 0.3), 0px 1px 3px 1px rgba(60, 64, 67, 0.15);\n",
              "      fill: #174EA6;\n",
              "    }\n",
              "\n",
              "    [theme=dark] .colab-df-convert {\n",
              "      background-color: #3B4455;\n",
              "      fill: #D2E3FC;\n",
              "    }\n",
              "\n",
              "    [theme=dark] .colab-df-convert:hover {\n",
              "      background-color: #434B5C;\n",
              "      box-shadow: 0px 1px 3px 1px rgba(0, 0, 0, 0.15);\n",
              "      filter: drop-shadow(0px 1px 2px rgba(0, 0, 0, 0.3));\n",
              "      fill: #FFFFFF;\n",
              "    }\n",
              "  </style>\n",
              "\n",
              "      <script>\n",
              "        const buttonEl =\n",
              "          document.querySelector('#df-f7af394c-d9b7-4f58-963f-65ffac68b7f6 button.colab-df-convert');\n",
              "        buttonEl.style.display =\n",
              "          google.colab.kernel.accessAllowed ? 'block' : 'none';\n",
              "\n",
              "        async function convertToInteractive(key) {\n",
              "          const element = document.querySelector('#df-f7af394c-d9b7-4f58-963f-65ffac68b7f6');\n",
              "          const dataTable =\n",
              "            await google.colab.kernel.invokeFunction('convertToInteractive',\n",
              "                                                     [key], {});\n",
              "          if (!dataTable) return;\n",
              "\n",
              "          const docLinkHtml = 'Like what you see? Visit the ' +\n",
              "            '<a target=\"_blank\" href=https://colab.research.google.com/notebooks/data_table.ipynb>data table notebook</a>'\n",
              "            + ' to learn more about interactive tables.';\n",
              "          element.innerHTML = '';\n",
              "          dataTable['output_type'] = 'display_data';\n",
              "          await google.colab.output.renderOutput(dataTable, element);\n",
              "          const docLink = document.createElement('div');\n",
              "          docLink.innerHTML = docLinkHtml;\n",
              "          element.appendChild(docLink);\n",
              "        }\n",
              "      </script>\n",
              "    </div>\n",
              "  </div>\n",
              "  "
            ]
          },
          "metadata": {},
          "execution_count": 157
        }
      ]
    },
    {
      "cell_type": "code",
      "source": [
        "df_gb = df_res.groupby(['w'])['res'].sum()\n",
        "df_gb*8"
      ],
      "metadata": {
        "colab": {
          "base_uri": "https://localhost:8080/"
        },
        "id": "--g2kEAc7HYG",
        "outputId": "e8afd1b8-3f25-462a-c75e-93999d31367d"
      },
      "execution_count": 159,
      "outputs": [
        {
          "output_type": "execute_result",
          "data": {
            "text/plain": [
              "w\n",
              "W1     16.0\n",
              "W10    32.0\n",
              "W2     32.0\n",
              "W3     32.0\n",
              "W5      8.0\n",
              "Name: res, dtype: float64"
            ]
          },
          "metadata": {},
          "execution_count": 159
        }
      ]
    }
  ]
}