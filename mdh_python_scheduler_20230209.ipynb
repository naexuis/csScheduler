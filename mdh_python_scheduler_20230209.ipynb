{
 "cells": [
  {
   "cell_type": "markdown",
   "metadata": {
    "colab_type": "text",
    "id": "view-in-github"
   },
   "source": [
    "<a href=\"https://colab.research.google.com/github/naexuis/csScheduler/blob/main/mdh_python_scheduler.ipynb\" target=\"_parent\"><img src=\"https://colab.research.google.com/assets/colab-badge.svg\" alt=\"Open In Colab\"/></a>"
   ]
  },
  {
   "cell_type": "code",
   "execution_count": 1,
   "metadata": {
    "colab": {
     "base_uri": "https://localhost:8080/"
    },
    "id": "KkrERzkdK2fD",
    "outputId": "20069b02-3364-4ce9-ab25-c45e684aca57"
   },
   "outputs": [
    {
     "name": "stdout",
     "output_type": "stream",
     "text": [
      "Cloning into 'csScheduler'...\n",
      "remote: Enumerating objects: 21, done.\u001b[K\n",
      "remote: Counting objects: 100% (21/21), done.\u001b[K\n",
      "remote: Compressing objects: 100% (16/16), done.\u001b[K\n",
      "remote: Total 21 (delta 5), reused 16 (delta 3), pack-reused 0\u001b[K\n",
      "Unpacking objects: 100% (21/21), 3.25 KiB | 833.00 KiB/s, done.\n"
     ]
    }
   ],
   "source": [
    "! git clone https://github.com/naexuis/csScheduler.git"
   ]
  },
  {
   "cell_type": "code",
   "execution_count": 2,
   "metadata": {
    "id": "DV7ErXWOK87C"
   },
   "outputs": [],
   "source": [
    "dir_path = \"/content/csScheduler/\""
   ]
  },
  {
   "cell_type": "code",
   "execution_count": 3,
   "metadata": {
    "id": "Hop9dUrv9WGT"
   },
   "outputs": [],
   "source": [
    "import pandas as pd\n",
    "import numpy as np\n",
    "import os\n",
    "import copy\n",
    "import json\n",
    "import matplotlib.pyplot as plt"
   ]
  },
  {
   "cell_type": "code",
   "execution_count": 4,
   "metadata": {
    "colab": {
     "base_uri": "https://localhost:8080/"
    },
    "id": "Jd0slNf_9xh1",
    "outputId": "89b0134d-9834-4786-96cc-93ad997e5067"
   },
   "outputs": [
    {
     "name": "stdout",
     "output_type": "stream",
     "text": [
      "\u001b[2K     \u001b[90m━━━━━━━━━━━━━━━━━━━━━━━━━━━━━━━━━━━━━━━\u001b[0m \u001b[32m11.1/11.1 MB\u001b[0m \u001b[31m104.1 MB/s\u001b[0m eta \u001b[36m0:00:00\u001b[0m\n",
      "\u001b[2K     \u001b[90m━━━━━━━━━━━━━━━━━━━━━━━━━━━━━━━━━━━━━━━━\u001b[0m \u001b[32m49.6/49.6 KB\u001b[0m \u001b[31m6.0 MB/s\u001b[0m eta \u001b[36m0:00:00\u001b[0m\n",
      "\u001b[?25h"
     ]
    }
   ],
   "source": [
    "try:\n",
    "    import pyomo\n",
    "except:\n",
    "    %pip install -q Pyomo"
   ]
  },
  {
   "cell_type": "code",
   "execution_count": 5,
   "metadata": {
    "colab": {
     "base_uri": "https://localhost:8080/"
    },
    "id": "yE9kKqv69yDa",
    "outputId": "881ed28b-2322-4178-d91b-46886afb0348"
   },
   "outputs": [
    {
     "name": "stdout",
     "output_type": "stream",
     "text": [
      "6.4.4\n"
     ]
    }
   ],
   "source": [
    "# Import Pyomo Library\n",
    "import pyomo\n",
    "from pyomo.environ import *\n",
    "\n",
    "print(pyomo.__version__)"
   ]
  },
  {
   "cell_type": "code",
   "execution_count": 6,
   "metadata": {
    "id": "Iu5xHYcP91vu"
   },
   "outputs": [],
   "source": [
    "# Install COIN-OR IPOPT Solver\n",
    "!wget -N -q \"https://ampl.com/dl/open/ipopt/ipopt-linux64.zip\"\n",
    "!unzip -o -q ipopt-linux64"
   ]
  },
  {
   "cell_type": "markdown",
   "metadata": {
    "id": "qUuHsvMo-zZq"
   },
   "source": [
    "## Problem Description"
   ]
  },
  {
   "cell_type": "markdown",
   "metadata": {
    "id": "OOaAyspC-2P6"
   },
   "source": [
    "A new store has been opened which will be open 16 hours a day, 5 days a week. \n",
    "\n",
    "Each day, there are **two eight-hour** shifts. \n",
    "* Morning shift is from 06:00 to 14:00\n",
    "* Evening shift is from 14:00 to 22:00\n",
    "\n",
    "The morning shift will have 5 employees except for Friday when there are 6 employees. \n",
    "\n",
    "The evening shift there are 8 employees plus 1 manager except for Friday when there are 10 employees plus 1 manager."
   ]
  },
  {
   "cell_type": "code",
   "execution_count": 7,
   "metadata": {
    "id": "XFYAiqXhITdj"
   },
   "outputs": [],
   "source": [
    "# Define days (1 week)\n",
    "days = ['Monday', 'Tuesday', 'Wednesday', 'Thursday', 'Friday']\n",
    "\n",
    "# Enter shifts of each day\n",
    "shifts = ['morning', 'evening']  # 2 shifts of 8 hours"
   ]
  },
  {
   "cell_type": "code",
   "execution_count": 8,
   "metadata": {
    "id": "L6ykx7TeLNAl"
   },
   "outputs": [],
   "source": [
    "# Opening JSON Schedule file to create nested dictionary\n",
    "with open(dir_path+'Schedule.json') as json_file:\n",
    "    input_schedule = json.load(json_file)"
   ]
  },
  {
   "cell_type": "code",
   "execution_count": 9,
   "metadata": {
    "id": "XM9yN9l0vaj-"
   },
   "outputs": [],
   "source": [
    "with open(dir_path+'People.json') as json_file:\n",
    "    worker_schedule = json.load(json_file)"
   ]
  },
  {
   "cell_type": "code",
   "execution_count": 10,
   "metadata": {
    "colab": {
     "base_uri": "https://localhost:8080/"
    },
    "id": "2bcrWaM0LceZ",
    "outputId": "1bd106c6-77d8-4afb-e091-5e85b65c948c"
   },
   "outputs": [
    {
     "data": {
      "text/plain": [
       "{'Monday': {'timesWeNeedWorkers': [{'shifts': 'morning',\n",
       "    'numberOfEmployeesNeeded': '2',\n",
       "    'managerNeeded': 'false'},\n",
       "   {'shifts': 'evening',\n",
       "    'numberOfEmployeesNeeded': '2',\n",
       "    'managerNeeded': 'false'}]},\n",
       " 'Tuesday': {'timesWeNeedWorkers': [{'shifts': 'morning',\n",
       "    'numberOfEmployeesNeeded': '3',\n",
       "    'managerNeeded': 'false'},\n",
       "   {'shifts': 'evening',\n",
       "    'numberOfEmployeesNeeded': '0',\n",
       "    'managerNeeded': 'false'}]},\n",
       " 'Wednesday': {'timesWeNeedWorkers': [{'shifts': 'morning',\n",
       "    'numberOfEmployeesNeeded': '2',\n",
       "    'managerNeeded': 'false'},\n",
       "   {'shifts': 'evening',\n",
       "    'numberOfEmployeesNeeded': '1',\n",
       "    'managerNeeded': 'false'}]},\n",
       " 'Thursday': {'timesWeNeedWorkers': [{'shifts': 'morning',\n",
       "    'numberOfEmployeesNeeded': '2',\n",
       "    'managerNeeded': 'false'},\n",
       "   {'shifts': 'evening',\n",
       "    'numberOfEmployeesNeeded': '1',\n",
       "    'managerNeeded': 'false'}]},\n",
       " 'Friday': {'timesWeNeedWorkers': [{'shifts': 'morning',\n",
       "    'numberOfEmployeesNeeded': '0',\n",
       "    'managerNeeded': 'false'},\n",
       "   {'shifts': 'evening',\n",
       "    'numberOfEmployeesNeeded': '2',\n",
       "    'managerNeeded': 'false'}]}}"
      ]
     },
     "execution_count": 10,
     "metadata": {},
     "output_type": "execute_result"
    }
   ],
   "source": [
    "input_schedule"
   ]
  },
  {
   "cell_type": "code",
   "execution_count": 11,
   "metadata": {
    "colab": {
     "base_uri": "https://localhost:8080/"
    },
    "id": "J3dTyeGrxTaR",
    "outputId": "c80ce6d0-8acb-4fe7-b72b-09e14c541b3e"
   },
   "outputs": [
    {
     "data": {
      "text/plain": [
       "10"
      ]
     },
     "execution_count": 11,
     "metadata": {},
     "output_type": "execute_result"
    }
   ],
   "source": [
    "len(worker_schedule['People'])"
   ]
  },
  {
   "cell_type": "code",
   "execution_count": 12,
   "metadata": {
    "colab": {
     "base_uri": "https://localhost:8080/"
    },
    "id": "gdlVL_01JAUi",
    "outputId": "1e772837-decd-411e-eab6-28b9da7c6904"
   },
   "outputs": [
    {
     "data": {
      "text/plain": [
       "{'Monday': ['morning', 'evening'],\n",
       " 'Tuesday': ['morning', 'evening'],\n",
       " 'Wednesday': ['morning', 'evening'],\n",
       " 'Thursday': ['morning', 'evening'],\n",
       " 'Friday': ['morning', 'evening']}"
      ]
     },
     "execution_count": 12,
     "metadata": {},
     "output_type": "execute_result"
    }
   ],
   "source": [
    "days_shifts = {day: shifts for day in days}\n",
    "days_shifts"
   ]
  },
  {
   "cell_type": "code",
   "execution_count": null,
   "metadata": {
    "id": "QAIS2IQliSrf"
   },
   "outputs": [],
   "source": []
  },
  {
   "cell_type": "code",
   "execution_count": 13,
   "metadata": {
    "colab": {
     "base_uri": "https://localhost:8080/"
    },
    "id": "Nf7RJ7llJBef",
    "outputId": "268cd98b-1cdf-42a5-adcb-bf717f685534"
   },
   "outputs": [
    {
     "data": {
      "text/plain": [
       "{'Monday': [2, 2],\n",
       " 'Tuesday': [3, 0],\n",
       " 'Wednesday': [2, 1],\n",
       " 'Thursday': [2, 1],\n",
       " 'Friday': [0, 2]}"
      ]
     },
     "execution_count": 13,
     "metadata": {},
     "output_type": "execute_result"
    }
   ],
   "source": [
    "work_shifts = {}\n",
    "\n",
    "for k in range(len(days)):\n",
    "    tmpLST = input_schedule[days[k]]['timesWeNeedWorkers']\n",
    "    tmpWorkLST = []\n",
    "    for i in range(len(tmpLST)):\n",
    "        if int(tmpLST[i]['numberOfEmployeesNeeded'])>0:\n",
    "            tmpWorkLST.append(int(tmpLST[i]['numberOfEmployeesNeeded']))\n",
    "        else:\n",
    "            tmpWorkLST.append(0)\n",
    "\n",
    "    work_shifts[days[k]] = tmpWorkLST\n",
    "\n",
    "work_shifts"
   ]
  },
  {
   "cell_type": "code",
   "execution_count": 14,
   "metadata": {
    "colab": {
     "base_uri": "https://localhost:8080/"
    },
    "id": "s_uNrJsgWT7i",
    "outputId": "9c12c18d-3206-486f-9ea2-edc468756eae"
   },
   "outputs": [
    {
     "data": {
      "text/plain": [
       "['W1', 'W2', 'W3', 'W4', 'W5', 'W6', 'W7', 'W8', 'W9', 'W10']"
      ]
     },
     "execution_count": 14,
     "metadata": {},
     "output_type": "execute_result"
    }
   ],
   "source": [
    "# Enter workers ids (name, number, ...)\n",
    "workers = ['W' + str(i) for i in range(1, 11)]  # 10 workers available, more than needed\n",
    "workers"
   ]
  },
  {
   "cell_type": "code",
   "execution_count": 15,
   "metadata": {
    "id": "WbQjrQZ2Xqxm"
   },
   "outputs": [],
   "source": [
    "# We need to create a dictionary of the workers availability where the \n",
    "# dictionary key will be a tuple and the value will be a binary variable\n",
    "# (\"worker\", \"Day\", \"Shift\"): \"Available\"\n",
    "\n",
    "c = {}\n",
    "for k in range(len(worker_schedule['People'])):\n",
    "    tmpLST = worker_schedule['People'][k]\n",
    "\n",
    "    for i in range(len(days)):\n",
    "        tmpLST2 = tmpLST[days[i]]['freeTimes']\n",
    "\n",
    "        for j in range(len(tmpLST2)):\n",
    "            c[(tmpLST['name'], days[i], tmpLST2[j]['shifts'])] = int(tmpLST2[j]['available'])"
   ]
  },
  {
   "cell_type": "code",
   "execution_count": 16,
   "metadata": {
    "colab": {
     "base_uri": "https://localhost:8080/"
    },
    "id": "Ue31322j_tFm",
    "outputId": "014ee485-f2f5-48b6-a69d-a6101071676a"
   },
   "outputs": [
    {
     "data": {
      "text/plain": [
       "{('W1', 'Monday', 'morning'): 0,\n",
       " ('W1', 'Monday', 'evening'): 0,\n",
       " ('W1', 'Tuesday', 'morning'): 1,\n",
       " ('W1', 'Tuesday', 'evening'): 1,\n",
       " ('W1', 'Wednesday', 'morning'): 0,\n",
       " ('W1', 'Wednesday', 'evening'): 0,\n",
       " ('W1', 'Thursday', 'morning'): 0,\n",
       " ('W1', 'Thursday', 'evening'): 0,\n",
       " ('W1', 'Friday', 'morning'): 1,\n",
       " ('W1', 'Friday', 'evening'): 1,\n",
       " ('W2', 'Monday', 'morning'): 1,\n",
       " ('W2', 'Monday', 'evening'): 1,\n",
       " ('W2', 'Tuesday', 'morning'): 1,\n",
       " ('W2', 'Tuesday', 'evening'): 1,\n",
       " ('W2', 'Wednesday', 'morning'): 0,\n",
       " ('W2', 'Wednesday', 'evening'): 0,\n",
       " ('W2', 'Thursday', 'morning'): 1,\n",
       " ('W2', 'Thursday', 'evening'): 1,\n",
       " ('W2', 'Friday', 'morning'): 0,\n",
       " ('W2', 'Friday', 'evening'): 0,\n",
       " ('W3', 'Monday', 'morning'): 1,\n",
       " ('W3', 'Monday', 'evening'): 1,\n",
       " ('W3', 'Tuesday', 'morning'): 0,\n",
       " ('W3', 'Tuesday', 'evening'): 0,\n",
       " ('W3', 'Wednesday', 'morning'): 1,\n",
       " ('W3', 'Wednesday', 'evening'): 1,\n",
       " ('W3', 'Thursday', 'morning'): 1,\n",
       " ('W3', 'Thursday', 'evening'): 1,\n",
       " ('W3', 'Friday', 'morning'): 1,\n",
       " ('W3', 'Friday', 'evening'): 1,\n",
       " ('W4', 'Monday', 'morning'): 1,\n",
       " ('W4', 'Monday', 'evening'): 1,\n",
       " ('W4', 'Tuesday', 'morning'): 1,\n",
       " ('W4', 'Tuesday', 'evening'): 1,\n",
       " ('W4', 'Wednesday', 'morning'): 0,\n",
       " ('W4', 'Wednesday', 'evening'): 0,\n",
       " ('W4', 'Thursday', 'morning'): 1,\n",
       " ('W4', 'Thursday', 'evening'): 1,\n",
       " ('W4', 'Friday', 'morning'): 1,\n",
       " ('W4', 'Friday', 'evening'): 1,\n",
       " ('W5', 'Monday', 'morning'): 1,\n",
       " ('W5', 'Monday', 'evening'): 1,\n",
       " ('W5', 'Tuesday', 'morning'): 1,\n",
       " ('W5', 'Tuesday', 'evening'): 1,\n",
       " ('W5', 'Wednesday', 'morning'): 1,\n",
       " ('W5', 'Wednesday', 'evening'): 1,\n",
       " ('W5', 'Thursday', 'morning'): 0,\n",
       " ('W5', 'Thursday', 'evening'): 0,\n",
       " ('W5', 'Friday', 'morning'): 0,\n",
       " ('W5', 'Friday', 'evening'): 0,\n",
       " ('W6', 'Monday', 'morning'): 1,\n",
       " ('W6', 'Monday', 'evening'): 1,\n",
       " ('W6', 'Tuesday', 'morning'): 1,\n",
       " ('W6', 'Tuesday', 'evening'): 1,\n",
       " ('W6', 'Wednesday', 'morning'): 1,\n",
       " ('W6', 'Wednesday', 'evening'): 1,\n",
       " ('W6', 'Thursday', 'morning'): 1,\n",
       " ('W6', 'Thursday', 'evening'): 1,\n",
       " ('W6', 'Friday', 'morning'): 1,\n",
       " ('W6', 'Friday', 'evening'): 1,\n",
       " ('W7', 'Monday', 'morning'): 1,\n",
       " ('W7', 'Monday', 'evening'): 0,\n",
       " ('W7', 'Tuesday', 'morning'): 1,\n",
       " ('W7', 'Tuesday', 'evening'): 0,\n",
       " ('W7', 'Wednesday', 'morning'): 1,\n",
       " ('W7', 'Wednesday', 'evening'): 0,\n",
       " ('W7', 'Thursday', 'morning'): 0,\n",
       " ('W7', 'Thursday', 'evening'): 1,\n",
       " ('W7', 'Friday', 'morning'): 0,\n",
       " ('W7', 'Friday', 'evening'): 1,\n",
       " ('W8', 'Monday', 'morning'): 0,\n",
       " ('W8', 'Monday', 'evening'): 1,\n",
       " ('W8', 'Tuesday', 'morning'): 0,\n",
       " ('W8', 'Tuesday', 'evening'): 1,\n",
       " ('W8', 'Wednesday', 'morning'): 1,\n",
       " ('W8', 'Wednesday', 'evening'): 0,\n",
       " ('W8', 'Thursday', 'morning'): 0,\n",
       " ('W8', 'Thursday', 'evening'): 1,\n",
       " ('W8', 'Friday', 'morning'): 0,\n",
       " ('W8', 'Friday', 'evening'): 1,\n",
       " ('W9', 'Monday', 'morning'): 1,\n",
       " ('W9', 'Monday', 'evening'): 1,\n",
       " ('W9', 'Tuesday', 'morning'): 0,\n",
       " ('W9', 'Tuesday', 'evening'): 0,\n",
       " ('W9', 'Wednesday', 'morning'): 1,\n",
       " ('W9', 'Wednesday', 'evening'): 0,\n",
       " ('W9', 'Thursday', 'morning'): 1,\n",
       " ('W9', 'Thursday', 'evening'): 0,\n",
       " ('W9', 'Friday', 'morning'): 0,\n",
       " ('W9', 'Friday', 'evening'): 1,\n",
       " ('W10', 'Monday', 'morning'): 0,\n",
       " ('W10', 'Monday', 'evening'): 1,\n",
       " ('W10', 'Tuesday', 'morning'): 1,\n",
       " ('W10', 'Tuesday', 'evening'): 1,\n",
       " ('W10', 'Wednesday', 'morning'): 0,\n",
       " ('W10', 'Wednesday', 'evening'): 0,\n",
       " ('W10', 'Thursday', 'morning'): 1,\n",
       " ('W10', 'Thursday', 'evening'): 1,\n",
       " ('W10', 'Friday', 'morning'): 0,\n",
       " ('W10', 'Friday', 'evening'): 0}"
      ]
     },
     "execution_count": 16,
     "metadata": {},
     "output_type": "execute_result"
    }
   ],
   "source": [
    "c"
   ]
  },
  {
   "cell_type": "code",
   "execution_count": 17,
   "metadata": {
    "id": "-Be0Ul5lJeNl"
   },
   "outputs": [],
   "source": [
    "# We need to create a dictionary of the workers total desired hours\n",
    "\n",
    "maxhr = {}\n",
    "for k in range(len(worker_schedule['People'])):\n",
    "    tmpLST = worker_schedule['People'][k]\n",
    "    maxhr[tmpLST['name']] = int(tmpLST['hoursDesired'])"
   ]
  },
  {
   "cell_type": "code",
   "execution_count": null,
   "metadata": {
    "id": "tdGP2wxPgIuK"
   },
   "outputs": [],
   "source": [
    "maxhr"
   ]
  },
  {
   "cell_type": "markdown",
   "metadata": {
    "id": "h51ppUPw_w8z"
   },
   "source": [
    "Define $W$ as the set of workers, $S$ as the sets of shifts, and $H$ as the set of max number of hours.\n",
    "\n",
    "Let $c_{ws}$ be worker $j$ availability for shift $s$\n",
    "\n",
    "Let $x_{ws}$ be the proportion of shift $s$ that is completed by worker $j$.\n",
    "\n",
    "$${minimize} \\sum_{w \\in W} \\sum_{s \\in S} c_{ws}x_{ws}$$\n",
    "\n",
    "subject to the total numbers of hours $h$ for worker $j$\n",
    "\n",
    "$$\\sum_{s \\in S}c_{ws}x_{ws} \\le h_{j}$$\n",
    "\n",
    "the sum of each shift that a worker completes must sum to unity.\n",
    "\n",
    "$$\\sum_{w \\in W}x_{ws} = 1$$\n",
    "\n"
   ]
  },
  {
   "cell_type": "code",
   "execution_count": 32,
   "metadata": {
    "id": "B5eF-yRoH2En"
   },
   "outputs": [],
   "source": [
    "M = ConcreteModel()"
   ]
  },
  {
   "cell_type": "code",
   "execution_count": 33,
   "metadata": {
    "id": "pCZDyFNy-lqN"
   },
   "outputs": [],
   "source": [
    "M.workers = Set(initialize=workers)\n",
    "M.days = Set(initialize=days)\n",
    "M.shifts = Set(initialize=shifts)"
   ]
  },
  {
   "cell_type": "code",
   "execution_count": 34,
   "metadata": {
    "id": "MvsRLaHYHq8z"
   },
   "outputs": [],
   "source": [
    "# Parameters\n",
    "M.c = Param(M.workers, M.days, M.shifts, initialize=c, default=0)\n",
    "M.max_hours = Param(M.workers, initialize=maxhr)"
   ]
  },
  {
   "cell_type": "code",
   "execution_count": 35,
   "metadata": {
    "id": "PgL5mw9nH6Q9"
   },
   "outputs": [],
   "source": [
    "M.x = Var(M.workers, M.days, M.shifts, domain=Reals, bounds=(0,1))"
   ]
  },
  {
   "cell_type": "code",
   "execution_count": 36,
   "metadata": {
    "colab": {
     "base_uri": "https://localhost:8080/"
    },
    "id": "7f8-awYbIcDv",
    "outputId": "dcfc2a60-a8d4-41e3-f044-a2bf2340efd0"
   },
   "outputs": [
    {
     "name": "stdout",
     "output_type": "stream",
     "text": [
      "5 Set Declarations\n",
      "    c_index : Size=1, Index=None, Ordered=True\n",
      "        Key  : Dimen : Domain              : Size : Members\n",
      "        None :     3 : workers*days*shifts :  100 : {('W1', 'Monday', 'morning'), ('W1', 'Monday', 'evening'), ('W1', 'Tuesday', 'morning'), ('W1', 'Tuesday', 'evening'), ('W1', 'Wednesday', 'morning'), ('W1', 'Wednesday', 'evening'), ('W1', 'Thursday', 'morning'), ('W1', 'Thursday', 'evening'), ('W1', 'Friday', 'morning'), ('W1', 'Friday', 'evening'), ('W2', 'Monday', 'morning'), ('W2', 'Monday', 'evening'), ('W2', 'Tuesday', 'morning'), ('W2', 'Tuesday', 'evening'), ('W2', 'Wednesday', 'morning'), ('W2', 'Wednesday', 'evening'), ('W2', 'Thursday', 'morning'), ('W2', 'Thursday', 'evening'), ('W2', 'Friday', 'morning'), ('W2', 'Friday', 'evening'), ('W3', 'Monday', 'morning'), ('W3', 'Monday', 'evening'), ('W3', 'Tuesday', 'morning'), ('W3', 'Tuesday', 'evening'), ('W3', 'Wednesday', 'morning'), ('W3', 'Wednesday', 'evening'), ('W3', 'Thursday', 'morning'), ('W3', 'Thursday', 'evening'), ('W3', 'Friday', 'morning'), ('W3', 'Friday', 'evening'), ('W4', 'Monday', 'morning'), ('W4', 'Monday', 'evening'), ('W4', 'Tuesday', 'morning'), ('W4', 'Tuesday', 'evening'), ('W4', 'Wednesday', 'morning'), ('W4', 'Wednesday', 'evening'), ('W4', 'Thursday', 'morning'), ('W4', 'Thursday', 'evening'), ('W4', 'Friday', 'morning'), ('W4', 'Friday', 'evening'), ('W5', 'Monday', 'morning'), ('W5', 'Monday', 'evening'), ('W5', 'Tuesday', 'morning'), ('W5', 'Tuesday', 'evening'), ('W5', 'Wednesday', 'morning'), ('W5', 'Wednesday', 'evening'), ('W5', 'Thursday', 'morning'), ('W5', 'Thursday', 'evening'), ('W5', 'Friday', 'morning'), ('W5', 'Friday', 'evening'), ('W6', 'Monday', 'morning'), ('W6', 'Monday', 'evening'), ('W6', 'Tuesday', 'morning'), ('W6', 'Tuesday', 'evening'), ('W6', 'Wednesday', 'morning'), ('W6', 'Wednesday', 'evening'), ('W6', 'Thursday', 'morning'), ('W6', 'Thursday', 'evening'), ('W6', 'Friday', 'morning'), ('W6', 'Friday', 'evening'), ('W7', 'Monday', 'morning'), ('W7', 'Monday', 'evening'), ('W7', 'Tuesday', 'morning'), ('W7', 'Tuesday', 'evening'), ('W7', 'Wednesday', 'morning'), ('W7', 'Wednesday', 'evening'), ('W7', 'Thursday', 'morning'), ('W7', 'Thursday', 'evening'), ('W7', 'Friday', 'morning'), ('W7', 'Friday', 'evening'), ('W8', 'Monday', 'morning'), ('W8', 'Monday', 'evening'), ('W8', 'Tuesday', 'morning'), ('W8', 'Tuesday', 'evening'), ('W8', 'Wednesday', 'morning'), ('W8', 'Wednesday', 'evening'), ('W8', 'Thursday', 'morning'), ('W8', 'Thursday', 'evening'), ('W8', 'Friday', 'morning'), ('W8', 'Friday', 'evening'), ('W9', 'Monday', 'morning'), ('W9', 'Monday', 'evening'), ('W9', 'Tuesday', 'morning'), ('W9', 'Tuesday', 'evening'), ('W9', 'Wednesday', 'morning'), ('W9', 'Wednesday', 'evening'), ('W9', 'Thursday', 'morning'), ('W9', 'Thursday', 'evening'), ('W9', 'Friday', 'morning'), ('W9', 'Friday', 'evening'), ('W10', 'Monday', 'morning'), ('W10', 'Monday', 'evening'), ('W10', 'Tuesday', 'morning'), ('W10', 'Tuesday', 'evening'), ('W10', 'Wednesday', 'morning'), ('W10', 'Wednesday', 'evening'), ('W10', 'Thursday', 'morning'), ('W10', 'Thursday', 'evening'), ('W10', 'Friday', 'morning'), ('W10', 'Friday', 'evening')}\n",
      "    days : Size=1, Index=None, Ordered=Insertion\n",
      "        Key  : Dimen : Domain : Size : Members\n",
      "        None :     1 :    Any :    5 : {'Monday', 'Tuesday', 'Wednesday', 'Thursday', 'Friday'}\n",
      "    shifts : Size=1, Index=None, Ordered=Insertion\n",
      "        Key  : Dimen : Domain : Size : Members\n",
      "        None :     1 :    Any :    2 : {'morning', 'evening'}\n",
      "    workers : Size=1, Index=None, Ordered=Insertion\n",
      "        Key  : Dimen : Domain : Size : Members\n",
      "        None :     1 :    Any :   10 : {'W1', 'W2', 'W3', 'W4', 'W5', 'W6', 'W7', 'W8', 'W9', 'W10'}\n",
      "    x_index : Size=1, Index=None, Ordered=True\n",
      "        Key  : Dimen : Domain              : Size : Members\n",
      "        None :     3 : workers*days*shifts :  100 : {('W1', 'Monday', 'morning'), ('W1', 'Monday', 'evening'), ('W1', 'Tuesday', 'morning'), ('W1', 'Tuesday', 'evening'), ('W1', 'Wednesday', 'morning'), ('W1', 'Wednesday', 'evening'), ('W1', 'Thursday', 'morning'), ('W1', 'Thursday', 'evening'), ('W1', 'Friday', 'morning'), ('W1', 'Friday', 'evening'), ('W2', 'Monday', 'morning'), ('W2', 'Monday', 'evening'), ('W2', 'Tuesday', 'morning'), ('W2', 'Tuesday', 'evening'), ('W2', 'Wednesday', 'morning'), ('W2', 'Wednesday', 'evening'), ('W2', 'Thursday', 'morning'), ('W2', 'Thursday', 'evening'), ('W2', 'Friday', 'morning'), ('W2', 'Friday', 'evening'), ('W3', 'Monday', 'morning'), ('W3', 'Monday', 'evening'), ('W3', 'Tuesday', 'morning'), ('W3', 'Tuesday', 'evening'), ('W3', 'Wednesday', 'morning'), ('W3', 'Wednesday', 'evening'), ('W3', 'Thursday', 'morning'), ('W3', 'Thursday', 'evening'), ('W3', 'Friday', 'morning'), ('W3', 'Friday', 'evening'), ('W4', 'Monday', 'morning'), ('W4', 'Monday', 'evening'), ('W4', 'Tuesday', 'morning'), ('W4', 'Tuesday', 'evening'), ('W4', 'Wednesday', 'morning'), ('W4', 'Wednesday', 'evening'), ('W4', 'Thursday', 'morning'), ('W4', 'Thursday', 'evening'), ('W4', 'Friday', 'morning'), ('W4', 'Friday', 'evening'), ('W5', 'Monday', 'morning'), ('W5', 'Monday', 'evening'), ('W5', 'Tuesday', 'morning'), ('W5', 'Tuesday', 'evening'), ('W5', 'Wednesday', 'morning'), ('W5', 'Wednesday', 'evening'), ('W5', 'Thursday', 'morning'), ('W5', 'Thursday', 'evening'), ('W5', 'Friday', 'morning'), ('W5', 'Friday', 'evening'), ('W6', 'Monday', 'morning'), ('W6', 'Monday', 'evening'), ('W6', 'Tuesday', 'morning'), ('W6', 'Tuesday', 'evening'), ('W6', 'Wednesday', 'morning'), ('W6', 'Wednesday', 'evening'), ('W6', 'Thursday', 'morning'), ('W6', 'Thursday', 'evening'), ('W6', 'Friday', 'morning'), ('W6', 'Friday', 'evening'), ('W7', 'Monday', 'morning'), ('W7', 'Monday', 'evening'), ('W7', 'Tuesday', 'morning'), ('W7', 'Tuesday', 'evening'), ('W7', 'Wednesday', 'morning'), ('W7', 'Wednesday', 'evening'), ('W7', 'Thursday', 'morning'), ('W7', 'Thursday', 'evening'), ('W7', 'Friday', 'morning'), ('W7', 'Friday', 'evening'), ('W8', 'Monday', 'morning'), ('W8', 'Monday', 'evening'), ('W8', 'Tuesday', 'morning'), ('W8', 'Tuesday', 'evening'), ('W8', 'Wednesday', 'morning'), ('W8', 'Wednesday', 'evening'), ('W8', 'Thursday', 'morning'), ('W8', 'Thursday', 'evening'), ('W8', 'Friday', 'morning'), ('W8', 'Friday', 'evening'), ('W9', 'Monday', 'morning'), ('W9', 'Monday', 'evening'), ('W9', 'Tuesday', 'morning'), ('W9', 'Tuesday', 'evening'), ('W9', 'Wednesday', 'morning'), ('W9', 'Wednesday', 'evening'), ('W9', 'Thursday', 'morning'), ('W9', 'Thursday', 'evening'), ('W9', 'Friday', 'morning'), ('W9', 'Friday', 'evening'), ('W10', 'Monday', 'morning'), ('W10', 'Monday', 'evening'), ('W10', 'Tuesday', 'morning'), ('W10', 'Tuesday', 'evening'), ('W10', 'Wednesday', 'morning'), ('W10', 'Wednesday', 'evening'), ('W10', 'Thursday', 'morning'), ('W10', 'Thursday', 'evening'), ('W10', 'Friday', 'morning'), ('W10', 'Friday', 'evening')}\n",
      "\n",
      "2 Param Declarations\n",
      "    c : Size=100, Index=c_index, Domain=Any, Default=0, Mutable=False\n",
      "        Key                             : Value\n",
      "            ('W1', 'Friday', 'evening') :     1\n",
      "            ('W1', 'Friday', 'morning') :     1\n",
      "            ('W1', 'Monday', 'evening') :     0\n",
      "            ('W1', 'Monday', 'morning') :     0\n",
      "          ('W1', 'Thursday', 'evening') :     0\n",
      "          ('W1', 'Thursday', 'morning') :     0\n",
      "           ('W1', 'Tuesday', 'evening') :     1\n",
      "           ('W1', 'Tuesday', 'morning') :     1\n",
      "         ('W1', 'Wednesday', 'evening') :     0\n",
      "         ('W1', 'Wednesday', 'morning') :     0\n",
      "           ('W10', 'Friday', 'evening') :     0\n",
      "           ('W10', 'Friday', 'morning') :     0\n",
      "           ('W10', 'Monday', 'evening') :     1\n",
      "           ('W10', 'Monday', 'morning') :     0\n",
      "         ('W10', 'Thursday', 'evening') :     1\n",
      "         ('W10', 'Thursday', 'morning') :     1\n",
      "          ('W10', 'Tuesday', 'evening') :     1\n",
      "          ('W10', 'Tuesday', 'morning') :     1\n",
      "        ('W10', 'Wednesday', 'evening') :     0\n",
      "        ('W10', 'Wednesday', 'morning') :     0\n",
      "            ('W2', 'Friday', 'evening') :     0\n",
      "            ('W2', 'Friday', 'morning') :     0\n",
      "            ('W2', 'Monday', 'evening') :     1\n",
      "            ('W2', 'Monday', 'morning') :     1\n",
      "          ('W2', 'Thursday', 'evening') :     1\n",
      "          ('W2', 'Thursday', 'morning') :     1\n",
      "           ('W2', 'Tuesday', 'evening') :     1\n",
      "           ('W2', 'Tuesday', 'morning') :     1\n",
      "         ('W2', 'Wednesday', 'evening') :     0\n",
      "         ('W2', 'Wednesday', 'morning') :     0\n",
      "            ('W3', 'Friday', 'evening') :     1\n",
      "            ('W3', 'Friday', 'morning') :     1\n",
      "            ('W3', 'Monday', 'evening') :     1\n",
      "            ('W3', 'Monday', 'morning') :     1\n",
      "          ('W3', 'Thursday', 'evening') :     1\n",
      "          ('W3', 'Thursday', 'morning') :     1\n",
      "           ('W3', 'Tuesday', 'evening') :     0\n",
      "           ('W3', 'Tuesday', 'morning') :     0\n",
      "         ('W3', 'Wednesday', 'evening') :     1\n",
      "         ('W3', 'Wednesday', 'morning') :     1\n",
      "            ('W4', 'Friday', 'evening') :     1\n",
      "            ('W4', 'Friday', 'morning') :     1\n",
      "            ('W4', 'Monday', 'evening') :     1\n",
      "            ('W4', 'Monday', 'morning') :     1\n",
      "          ('W4', 'Thursday', 'evening') :     1\n",
      "          ('W4', 'Thursday', 'morning') :     1\n",
      "           ('W4', 'Tuesday', 'evening') :     1\n",
      "           ('W4', 'Tuesday', 'morning') :     1\n",
      "         ('W4', 'Wednesday', 'evening') :     0\n",
      "         ('W4', 'Wednesday', 'morning') :     0\n",
      "            ('W5', 'Friday', 'evening') :     0\n",
      "            ('W5', 'Friday', 'morning') :     0\n",
      "            ('W5', 'Monday', 'evening') :     1\n",
      "            ('W5', 'Monday', 'morning') :     1\n",
      "          ('W5', 'Thursday', 'evening') :     0\n",
      "          ('W5', 'Thursday', 'morning') :     0\n",
      "           ('W5', 'Tuesday', 'evening') :     1\n",
      "           ('W5', 'Tuesday', 'morning') :     1\n",
      "         ('W5', 'Wednesday', 'evening') :     1\n",
      "         ('W5', 'Wednesday', 'morning') :     1\n",
      "            ('W6', 'Friday', 'evening') :     1\n",
      "            ('W6', 'Friday', 'morning') :     1\n",
      "            ('W6', 'Monday', 'evening') :     1\n",
      "            ('W6', 'Monday', 'morning') :     1\n",
      "          ('W6', 'Thursday', 'evening') :     1\n",
      "          ('W6', 'Thursday', 'morning') :     1\n",
      "           ('W6', 'Tuesday', 'evening') :     1\n",
      "           ('W6', 'Tuesday', 'morning') :     1\n",
      "         ('W6', 'Wednesday', 'evening') :     1\n",
      "         ('W6', 'Wednesday', 'morning') :     1\n",
      "            ('W7', 'Friday', 'evening') :     1\n",
      "            ('W7', 'Friday', 'morning') :     0\n",
      "            ('W7', 'Monday', 'evening') :     0\n",
      "            ('W7', 'Monday', 'morning') :     1\n",
      "          ('W7', 'Thursday', 'evening') :     1\n",
      "          ('W7', 'Thursday', 'morning') :     0\n",
      "           ('W7', 'Tuesday', 'evening') :     0\n",
      "           ('W7', 'Tuesday', 'morning') :     1\n",
      "         ('W7', 'Wednesday', 'evening') :     0\n",
      "         ('W7', 'Wednesday', 'morning') :     1\n",
      "            ('W8', 'Friday', 'evening') :     1\n",
      "            ('W8', 'Friday', 'morning') :     0\n",
      "            ('W8', 'Monday', 'evening') :     1\n",
      "            ('W8', 'Monday', 'morning') :     0\n",
      "          ('W8', 'Thursday', 'evening') :     1\n",
      "          ('W8', 'Thursday', 'morning') :     0\n",
      "           ('W8', 'Tuesday', 'evening') :     1\n",
      "           ('W8', 'Tuesday', 'morning') :     0\n",
      "         ('W8', 'Wednesday', 'evening') :     0\n",
      "         ('W8', 'Wednesday', 'morning') :     1\n",
      "            ('W9', 'Friday', 'evening') :     1\n",
      "            ('W9', 'Friday', 'morning') :     0\n",
      "            ('W9', 'Monday', 'evening') :     1\n",
      "            ('W9', 'Monday', 'morning') :     1\n",
      "          ('W9', 'Thursday', 'evening') :     0\n",
      "          ('W9', 'Thursday', 'morning') :     1\n",
      "           ('W9', 'Tuesday', 'evening') :     0\n",
      "           ('W9', 'Tuesday', 'morning') :     0\n",
      "         ('W9', 'Wednesday', 'evening') :     0\n",
      "         ('W9', 'Wednesday', 'morning') :     1\n",
      "    max_hours : Size=10, Index=workers, Domain=Any, Default=None, Mutable=False\n",
      "        Key : Value\n",
      "         W1 :    40\n",
      "        W10 :    40\n",
      "         W2 :    40\n",
      "         W3 :    40\n",
      "         W4 :    40\n",
      "         W5 :    40\n",
      "         W6 :    40\n",
      "         W7 :    40\n",
      "         W8 :    40\n",
      "         W9 :    40\n",
      "\n",
      "1 Var Declarations\n",
      "    x : Size=100, Index=x_index\n",
      "        Key                             : Lower : Value : Upper : Fixed : Stale : Domain\n",
      "            ('W1', 'Friday', 'evening') :     0 :  None :     1 : False :  True :  Reals\n",
      "            ('W1', 'Friday', 'morning') :     0 :  None :     1 : False :  True :  Reals\n",
      "            ('W1', 'Monday', 'evening') :     0 :  None :     1 : False :  True :  Reals\n",
      "            ('W1', 'Monday', 'morning') :     0 :  None :     1 : False :  True :  Reals\n",
      "          ('W1', 'Thursday', 'evening') :     0 :  None :     1 : False :  True :  Reals\n",
      "          ('W1', 'Thursday', 'morning') :     0 :  None :     1 : False :  True :  Reals\n",
      "           ('W1', 'Tuesday', 'evening') :     0 :  None :     1 : False :  True :  Reals\n",
      "           ('W1', 'Tuesday', 'morning') :     0 :  None :     1 : False :  True :  Reals\n",
      "         ('W1', 'Wednesday', 'evening') :     0 :  None :     1 : False :  True :  Reals\n",
      "         ('W1', 'Wednesday', 'morning') :     0 :  None :     1 : False :  True :  Reals\n",
      "           ('W10', 'Friday', 'evening') :     0 :  None :     1 : False :  True :  Reals\n",
      "           ('W10', 'Friday', 'morning') :     0 :  None :     1 : False :  True :  Reals\n",
      "           ('W10', 'Monday', 'evening') :     0 :  None :     1 : False :  True :  Reals\n",
      "           ('W10', 'Monday', 'morning') :     0 :  None :     1 : False :  True :  Reals\n",
      "         ('W10', 'Thursday', 'evening') :     0 :  None :     1 : False :  True :  Reals\n",
      "         ('W10', 'Thursday', 'morning') :     0 :  None :     1 : False :  True :  Reals\n",
      "          ('W10', 'Tuesday', 'evening') :     0 :  None :     1 : False :  True :  Reals\n",
      "          ('W10', 'Tuesday', 'morning') :     0 :  None :     1 : False :  True :  Reals\n",
      "        ('W10', 'Wednesday', 'evening') :     0 :  None :     1 : False :  True :  Reals\n",
      "        ('W10', 'Wednesday', 'morning') :     0 :  None :     1 : False :  True :  Reals\n",
      "            ('W2', 'Friday', 'evening') :     0 :  None :     1 : False :  True :  Reals\n",
      "            ('W2', 'Friday', 'morning') :     0 :  None :     1 : False :  True :  Reals\n",
      "            ('W2', 'Monday', 'evening') :     0 :  None :     1 : False :  True :  Reals\n",
      "            ('W2', 'Monday', 'morning') :     0 :  None :     1 : False :  True :  Reals\n",
      "          ('W2', 'Thursday', 'evening') :     0 :  None :     1 : False :  True :  Reals\n",
      "          ('W2', 'Thursday', 'morning') :     0 :  None :     1 : False :  True :  Reals\n",
      "           ('W2', 'Tuesday', 'evening') :     0 :  None :     1 : False :  True :  Reals\n",
      "           ('W2', 'Tuesday', 'morning') :     0 :  None :     1 : False :  True :  Reals\n",
      "         ('W2', 'Wednesday', 'evening') :     0 :  None :     1 : False :  True :  Reals\n",
      "         ('W2', 'Wednesday', 'morning') :     0 :  None :     1 : False :  True :  Reals\n",
      "            ('W3', 'Friday', 'evening') :     0 :  None :     1 : False :  True :  Reals\n",
      "            ('W3', 'Friday', 'morning') :     0 :  None :     1 : False :  True :  Reals\n",
      "            ('W3', 'Monday', 'evening') :     0 :  None :     1 : False :  True :  Reals\n",
      "            ('W3', 'Monday', 'morning') :     0 :  None :     1 : False :  True :  Reals\n",
      "          ('W3', 'Thursday', 'evening') :     0 :  None :     1 : False :  True :  Reals\n",
      "          ('W3', 'Thursday', 'morning') :     0 :  None :     1 : False :  True :  Reals\n",
      "           ('W3', 'Tuesday', 'evening') :     0 :  None :     1 : False :  True :  Reals\n",
      "           ('W3', 'Tuesday', 'morning') :     0 :  None :     1 : False :  True :  Reals\n",
      "         ('W3', 'Wednesday', 'evening') :     0 :  None :     1 : False :  True :  Reals\n",
      "         ('W3', 'Wednesday', 'morning') :     0 :  None :     1 : False :  True :  Reals\n",
      "            ('W4', 'Friday', 'evening') :     0 :  None :     1 : False :  True :  Reals\n",
      "            ('W4', 'Friday', 'morning') :     0 :  None :     1 : False :  True :  Reals\n",
      "            ('W4', 'Monday', 'evening') :     0 :  None :     1 : False :  True :  Reals\n",
      "            ('W4', 'Monday', 'morning') :     0 :  None :     1 : False :  True :  Reals\n",
      "          ('W4', 'Thursday', 'evening') :     0 :  None :     1 : False :  True :  Reals\n",
      "          ('W4', 'Thursday', 'morning') :     0 :  None :     1 : False :  True :  Reals\n",
      "           ('W4', 'Tuesday', 'evening') :     0 :  None :     1 : False :  True :  Reals\n",
      "           ('W4', 'Tuesday', 'morning') :     0 :  None :     1 : False :  True :  Reals\n",
      "         ('W4', 'Wednesday', 'evening') :     0 :  None :     1 : False :  True :  Reals\n",
      "         ('W4', 'Wednesday', 'morning') :     0 :  None :     1 : False :  True :  Reals\n",
      "            ('W5', 'Friday', 'evening') :     0 :  None :     1 : False :  True :  Reals\n",
      "            ('W5', 'Friday', 'morning') :     0 :  None :     1 : False :  True :  Reals\n",
      "            ('W5', 'Monday', 'evening') :     0 :  None :     1 : False :  True :  Reals\n",
      "            ('W5', 'Monday', 'morning') :     0 :  None :     1 : False :  True :  Reals\n",
      "          ('W5', 'Thursday', 'evening') :     0 :  None :     1 : False :  True :  Reals\n",
      "          ('W5', 'Thursday', 'morning') :     0 :  None :     1 : False :  True :  Reals\n",
      "           ('W5', 'Tuesday', 'evening') :     0 :  None :     1 : False :  True :  Reals\n",
      "           ('W5', 'Tuesday', 'morning') :     0 :  None :     1 : False :  True :  Reals\n",
      "         ('W5', 'Wednesday', 'evening') :     0 :  None :     1 : False :  True :  Reals\n",
      "         ('W5', 'Wednesday', 'morning') :     0 :  None :     1 : False :  True :  Reals\n",
      "            ('W6', 'Friday', 'evening') :     0 :  None :     1 : False :  True :  Reals\n",
      "            ('W6', 'Friday', 'morning') :     0 :  None :     1 : False :  True :  Reals\n",
      "            ('W6', 'Monday', 'evening') :     0 :  None :     1 : False :  True :  Reals\n",
      "            ('W6', 'Monday', 'morning') :     0 :  None :     1 : False :  True :  Reals\n",
      "          ('W6', 'Thursday', 'evening') :     0 :  None :     1 : False :  True :  Reals\n",
      "          ('W6', 'Thursday', 'morning') :     0 :  None :     1 : False :  True :  Reals\n",
      "           ('W6', 'Tuesday', 'evening') :     0 :  None :     1 : False :  True :  Reals\n",
      "           ('W6', 'Tuesday', 'morning') :     0 :  None :     1 : False :  True :  Reals\n",
      "         ('W6', 'Wednesday', 'evening') :     0 :  None :     1 : False :  True :  Reals\n",
      "         ('W6', 'Wednesday', 'morning') :     0 :  None :     1 : False :  True :  Reals\n",
      "            ('W7', 'Friday', 'evening') :     0 :  None :     1 : False :  True :  Reals\n",
      "            ('W7', 'Friday', 'morning') :     0 :  None :     1 : False :  True :  Reals\n",
      "            ('W7', 'Monday', 'evening') :     0 :  None :     1 : False :  True :  Reals\n",
      "            ('W7', 'Monday', 'morning') :     0 :  None :     1 : False :  True :  Reals\n",
      "          ('W7', 'Thursday', 'evening') :     0 :  None :     1 : False :  True :  Reals\n",
      "          ('W7', 'Thursday', 'morning') :     0 :  None :     1 : False :  True :  Reals\n",
      "           ('W7', 'Tuesday', 'evening') :     0 :  None :     1 : False :  True :  Reals\n",
      "           ('W7', 'Tuesday', 'morning') :     0 :  None :     1 : False :  True :  Reals\n",
      "         ('W7', 'Wednesday', 'evening') :     0 :  None :     1 : False :  True :  Reals\n",
      "         ('W7', 'Wednesday', 'morning') :     0 :  None :     1 : False :  True :  Reals\n",
      "            ('W8', 'Friday', 'evening') :     0 :  None :     1 : False :  True :  Reals\n",
      "            ('W8', 'Friday', 'morning') :     0 :  None :     1 : False :  True :  Reals\n",
      "            ('W8', 'Monday', 'evening') :     0 :  None :     1 : False :  True :  Reals\n",
      "            ('W8', 'Monday', 'morning') :     0 :  None :     1 : False :  True :  Reals\n",
      "          ('W8', 'Thursday', 'evening') :     0 :  None :     1 : False :  True :  Reals\n",
      "          ('W8', 'Thursday', 'morning') :     0 :  None :     1 : False :  True :  Reals\n",
      "           ('W8', 'Tuesday', 'evening') :     0 :  None :     1 : False :  True :  Reals\n",
      "           ('W8', 'Tuesday', 'morning') :     0 :  None :     1 : False :  True :  Reals\n",
      "         ('W8', 'Wednesday', 'evening') :     0 :  None :     1 : False :  True :  Reals\n",
      "         ('W8', 'Wednesday', 'morning') :     0 :  None :     1 : False :  True :  Reals\n",
      "            ('W9', 'Friday', 'evening') :     0 :  None :     1 : False :  True :  Reals\n",
      "            ('W9', 'Friday', 'morning') :     0 :  None :     1 : False :  True :  Reals\n",
      "            ('W9', 'Monday', 'evening') :     0 :  None :     1 : False :  True :  Reals\n",
      "            ('W9', 'Monday', 'morning') :     0 :  None :     1 : False :  True :  Reals\n",
      "          ('W9', 'Thursday', 'evening') :     0 :  None :     1 : False :  True :  Reals\n",
      "          ('W9', 'Thursday', 'morning') :     0 :  None :     1 : False :  True :  Reals\n",
      "           ('W9', 'Tuesday', 'evening') :     0 :  None :     1 : False :  True :  Reals\n",
      "           ('W9', 'Tuesday', 'morning') :     0 :  None :     1 : False :  True :  Reals\n",
      "         ('W9', 'Wednesday', 'evening') :     0 :  None :     1 : False :  True :  Reals\n",
      "         ('W9', 'Wednesday', 'morning') :     0 :  None :     1 : False :  True :  Reals\n",
      "\n",
      "8 Declarations: workers days shifts c_index c max_hours x_index x\n"
     ]
    }
   ],
   "source": [
    "M.pprint()"
   ]
  },
  {
   "cell_type": "code",
   "execution_count": null,
   "metadata": {
    "id": "xAL67l3-IdUg"
   },
   "outputs": [],
   "source": []
  }
 ],
 "metadata": {
  "colab": {
   "authorship_tag": "ABX9TyPwjS7gVzCNieP5HurFMIxL",
   "include_colab_link": true,
   "provenance": []
  },
  "kernelspec": {
   "display_name": "Python 3",
   "language": "python",
   "name": "python3"
  },
  "language_info": {
   "codemirror_mode": {
    "name": "ipython",
    "version": 3
   },
   "file_extension": ".py",
   "mimetype": "text/x-python",
   "name": "python",
   "nbconvert_exporter": "python",
   "pygments_lexer": "ipython3",
   "version": "3.8.8"
  }
 },
 "nbformat": 4,
 "nbformat_minor": 1
}
